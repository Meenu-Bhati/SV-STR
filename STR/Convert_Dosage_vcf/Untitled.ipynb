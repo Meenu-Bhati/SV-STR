{
 "cells": [
  {
   "cell_type": "code",
   "execution_count": null,
   "metadata": {},
   "outputs": [],
   "source": [
    "### 1.   prepare STR for dosage \n",
    "\n",
    "\n",
    "dir=\"/cluster/work/pausch/meenu/SV/STR/Result_183/Filter_call_lessstrict\"\n",
    "\n",
    "module load bcftools\n",
    "module load htslib\n",
    "        \n",
    "python /cluster/work/pausch/meenu/SV/SV/RNAExpression/STR/Add_dosage_vcf.py  --invcf  ${dir}/75_animals_str_filter_vepgeno60_mac1.vcf.gz --outvcf  ${dir}/75_animals_str_filter_vepgeno60_mac1.DS.vcf\n",
    "bgzip  ${dir}/75_animals_str_filter_vepgeno60_mac1.DS.vcf\n",
    "tabix -p vcf ${dir}/75_animals_str_filter_vepgeno60_mac1.DS.vcf.gz\n"
   ]
  },
  {
   "cell_type": "code",
   "execution_count": null,
   "metadata": {},
   "outputs": [],
   "source": [
    "### now filter for heterozygoisty and "
   ]
  }
 ],
 "metadata": {
  "kernelspec": {
   "display_name": "Bash",
   "language": "bash",
   "name": "bash"
  },
  "language_info": {
   "codemirror_mode": "shell",
   "file_extension": ".sh",
   "mimetype": "text/x-sh",
   "name": "bash"
  }
 },
 "nbformat": 4,
 "nbformat_minor": 2
}
