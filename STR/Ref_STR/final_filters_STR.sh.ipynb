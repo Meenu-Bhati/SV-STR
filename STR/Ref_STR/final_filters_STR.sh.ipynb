{
 "cells": [
  {
   "cell_type": "code",
   "execution_count": null,
   "metadata": {},
   "outputs": [],
   "source": [
    "## remove the header from all fasta header\n",
    "\n",
    "\n",
    "## header in shashta ssembly\n",
    "##@3:1-121079435\n",
    "\n",
    "for assembly in BSWCHEM120151536851_shastamerfintigs BSWCHEF120152514636_shastamerfintigs\n",
    "do\n",
    "for chrom in $(seq 1 29) X\n",
    "do\n",
    "sed '1s/:.*//'  /cluster/work/pausch/meenu/SV/STR/${assembly}/fix_trf_out/${chrom}.fa >  \\\n",
    "/cluster/work/pausch/meenu/SV/STR/${assembly}/fix_trf_out/${chrom}_header.fa\n",
    "done\n",
    "done\n",
    "\n",
    "#### hedaer in hifi assembly\n",
    "## @3_RagTag:1-130995529\n",
    "\n",
    "for assembly in BSWCHEM120151536851_hifiasmv152 BSWCHEF120152514636_hifiasmv152 \n",
    "do\n",
    "for chrom in $(seq 1 29) X\n",
    "do\n",
    "sed '1s/_.*//'  /cluster/work/pausch/meenu/SV/STR/${assembly}/fix_trf_out/${chrom}.fa >  \\\n",
    "/cluster/work/pausch/meenu/SV/STR/${assembly}/fix_trf_out/${chrom}_header.fa \n",
    "done\n",
    "done\n",
    "\n"
   ]
  },
  {
   "cell_type": "code",
   "execution_count": null,
   "metadata": {},
   "outputs": [],
   "source": [
    "module load bedtools2/2.30.0\n",
    "module load python/2.7.14\n",
    "\n",
    "\n",
    "output_dir=\"/cluster/work/pausch/meenu/SV/STR/\"\n",
    "for assembly in BSWCHEM120151536851_hifiasmv152 BSWCHEF120152514636_hifiasmv152 BSWCHEM120151536851_shastamerfintigs BSWCHEF120152514636_shastamerfintigs\n",
    "do\n",
    "files=\"\"\n",
    "for chrom in $(seq 1 29) X \n",
    "do\n",
    "    files=\"$files,${output_dir}/${assembly}/fix_trf_out/${chrom}_header.fa\"\n",
    "done\n",
    "files=`echo $files | sed \"s/,//\"`\n",
    "python /cluster/work/pausch/meenu/SV/SV/STR_scripts/trf_parser.py $files > ${output_dir}/${assembly}/fix_trf_out/filtered_${assembly}.bed\n",
    "bedtools sort -i  ${output_dir}/${assembly}/fix_trf_out/filtered_${assembly}.bed >  ${output_dir}/${assembly}/fix_trf_out/filtered_${assembly}_sorted.bed\n",
    "done\n",
    "\n",
    "\n",
    "output_dir=\"/cluster/work/pausch/meenu/SV/STR\"\n",
    "\n",
    "for assembly in BSWCHEM120151536851_hifiasmv152 BSWCHEF120152514636_hifiasmv152 BSWCHEM120151536851_shastamerfintigs BSWCHEF120152514636_shastamerfintigs\n",
    "do\n",
    "python /cluster/work/pausch/meenu/SV/SV/STR_scripts/analyze_overlaps.py ${output_dir}/${assembly}/fix_trf_out/filtered_${assembly}_sorted.bed ${output_dir}/${assembly}/fix_trf_out/pass_STR.bed ${output_dir}/${assembly}/fix_trf_out/fail_STR.bed\n",
    "bedtools window -w 10 -a ${output_dir}/${assembly}/fix_trf_out/pass_STR.bed -b ${output_dir}/${assembly}/fix_trf_out/fail_STR.bed -v > ${output_dir}/${assembly}/fix_trf_out/pass_STR2.bed\n",
    "bedtools merge -i ${output_dir}/${assembly}/fix_trf_out/pass_STR2.bed -c 4,6 -o collapse -d 10 | grep -v \",\" > ${output_dir}/${assembly}/fix_trf_out/pass_STR3.bed\n",
    "cat ${output_dir}/${assembly}/fix_trf_out/pass_STR3.bed | awk -v OFS=\"\\t\" '{print $1, $2, $3, $4, ($3-$2+1)/$4, \"Bos_Tau_STR_\"NR, $5}'  | bedtools sort  > ${output_dir}/${assembly}/fix_trf_out/${assembly}.hipstr_reference_All_info.bed\n",
    "done\n",
    "\n",
    "\n"
   ]
  },
  {
   "cell_type": "raw",
   "metadata": {},
   "source": [
    "##trf parser output in ordeer on assembly above\n",
    "Kept 1417850 out of 14234002 records (9.96%) with sufficiently high scores\n",
    "Kept 1413557 out of 14128893 records (10.00%) with sufficiently high scores\n",
    "Kept 1384129 out of 13818366 records (10.02%) with sufficiently high scores\n",
    "Kept 1387402 out of 13841221 records (10.02%) with sufficiently high scores\n"
   ]
  },
  {
   "cell_type": "code",
   "execution_count": 2,
   "metadata": {},
   "outputs": [
    {
     "name": "stdout",
     "output_type": "stream",
     "text": [
      "1301895 /cluster/work/pausch/meenu/SV/STR/BSWCHEM120151536851_hifiasmv152/fix_trf_out/BSWCHEM120151536851_hifiasmv152.hipstr_reference_All_info.bed\n",
      "1298225 /cluster/work/pausch/meenu/SV/STR/BSWCHEF120152514636_hifiasmv152/fix_trf_out/BSWCHEF120152514636_hifiasmv152.hipstr_reference_All_info.bed\n",
      "1271879 /cluster/work/pausch/meenu/SV/STR/BSWCHEM120151536851_shastamerfintigs/fix_trf_out/BSWCHEM120151536851_shastamerfintigs.hipstr_reference_All_info.bed\n",
      "1273646 /cluster/work/pausch/meenu/SV/STR/BSWCHEF120152514636_shastamerfintigs/fix_trf_out/BSWCHEF120152514636_shastamerfintigs.hipstr_reference_All_info.bed\n"
     ]
    }
   ],
   "source": [
    "output_dir=\"/cluster/work/pausch/meenu/SV/STR\"\n",
    "\n",
    "for assembly in BSWCHEM120151536851_hifiasmv152 BSWCHEF120152514636_hifiasmv152 BSWCHEM120151536851_shastamerfintigs BSWCHEF120152514636_shastamerfintigs\n",
    "do\n",
    "wc -l ${output_dir}/${assembly}/fix_trf_out/${assembly}.hipstr_reference_All_info.bed\n",
    "done\n"
   ]
  },
  {
   "cell_type": "code",
   "execution_count": null,
   "metadata": {},
   "outputs": [],
   "source": []
  }
 ],
 "metadata": {
  "kernelspec": {
   "display_name": "Bash",
   "language": "bash",
   "name": "bash"
  },
  "language_info": {
   "codemirror_mode": "shell",
   "file_extension": ".sh",
   "mimetype": "text/x-sh",
   "name": "bash"
  }
 },
 "nbformat": 4,
 "nbformat_minor": 2
}
