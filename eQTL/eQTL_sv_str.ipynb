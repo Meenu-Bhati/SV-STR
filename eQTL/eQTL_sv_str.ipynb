{
 "cells": [
  {
   "cell_type": "code",
   "execution_count": null,
   "metadata": {},
   "outputs": [],
   "source": [
    "### nominal\n",
    "### nominal\n",
    "\n",
    "## path to files\n",
    "module load gcc/8.2.0 gsl\n",
    "\n",
    "expr=\"FINAL_gene_TPM_filter_quan_inv_allgenes.bed.gz\"\n",
    "cov=\"All_final_PEER_covariates.txt\"\n",
    "\n",
    "qtltools=qtltools/bin/QTLtools\n",
    "\n",
    "\n",
    "out=\"nominal\"\n",
    "\n",
    "## this is combined SV and STR vcf \n",
    "vcf_file=STRmac1_filter_SV_maf0.05_geno80_75ids.norm_sorted.vcf.gz\n",
    "\n",
    "mkdir -p $out\n",
    "\n",
    "${qtltools} cis --vcf ${vcf_file} --bed ${expr} \\\n",
    "--std-err  --normal --nominal 0.01  --cov ${cov} --out  ${out}/joint_sv_str_nominal --window 1000000\n"
   ]
  },
  {
   "cell_type": "code",
   "execution_count": null,
   "metadata": {},
   "outputs": [],
   "source": [
    "## run qtltools  permutation \n",
    "\n",
    "qtltools=/cluster/work/pausch/alex/software/qtltools/bin/QTLtools\n",
    "\n",
    "out_perm=\"permutation\" ## dir to save results \n",
    "\n",
    "${qtltools} cis --vcf ${vcf_file} --bed ${expr} --cov ${cov} \\\n",
    "--std-err --normal --permute 1000 --out ${out_perm}/joint_str_sv_perm --window 1000000 \n",
    "\n",
    "## header\n",
    "${qtltools} cis --vcf ${vcf_file} --bed ${expr} --cov ${cov} \\\n",
    "--std-err --normal --permute 1000 --out ${out_perm}/header_perm --window 1000000 --chunk 0 1 \n",
    "\n"
   ]
  },
  {
   "cell_type": "code",
   "execution_count": null,
   "metadata": {},
   "outputs": [],
   "source": [
    "## gzip\n",
    "module load htslib\n",
    "\n",
    "cat ${out_perm}/header_perm ${out_perm}/joint_str_sv_perm > ${out_perm}/joint_str_sv_perm.txt\n",
    "\n",
    "gzip  ${out_perm}/joint_str_sv_perm.txt\n",
    "\n",
    "## fdr \n",
    "module load gcc/4.8.5 r/4.1.3\n",
    "\n",
    "## joint \n",
    "## this script is provided by QTLtools\n",
    "Rscript qtltools_runFDR_cis.R \\\n",
    "${out_perm}/joint_str_sv_perm.txt.gz 0.05 \\\n",
    "${out_perm}/joint_str_sv_perm_fdr > log_rscript_perm\n",
    "\n",
    "## conditional\n",
    "\n",
    "module load gcc/8.2.0 gsl\n",
    "\n",
    "## dir to save output \n",
    "\n",
    "out_condi=\"conditional\"\n",
    "\n",
    "${qtltools} cis --vcf ${vcf_file} \\\n",
    "--bed ${expr} --cov ${cov} --mapping ${out_perm}/joint_str_sv_perm_fdr.thresholds.txt \\\n",
    "--std-err --out ${out_condi}/joint_str_sv_condi --window 1000000  \n",
    "\n",
    "### header\n",
    "\n",
    "${qtltools} cis --vcf ${vcf_file} \\\n",
    "--bed ${expr} --cov ${cov} --mapping ${out_perm}/joint_str_sv_perm_fdr.thresholds.txt  \\\n",
    "--std-err  --out ${out_condi}/header_condi --window 1000000 --chunk 0 1\n",
    "\n",
    "cat ${out_condi}/header_condi ${out_condi}/joint_str_sv_condi > ${out_condi}/joint_str_sv_condi.txt\n"
   ]
  },
  {
   "cell_type": "code",
   "execution_count": null,
   "metadata": {},
   "outputs": [],
   "source": [
    "## combine all chr output \n",
    "\n",
    "for chr in {1..29}; do awk '{ if ($23 == 1) print $0}' ${out_condi}/joint_str_sv_condi.txt; \\\n",
    "done >> ${out_condi}/Top_eQTL_conditional_joint_str_sv\n",
    "\n",
    "cat ${out_condi}/header_condi ${out_condi}/Top_eQTL_conditional_joint_str_sv > ${out_condi}/Top_eQTL_conditional_joint_str_sv.txt\n",
    "\n",
    "rm ${out_condi}/header_condi; rm ${out_condi}/Top_eQTL_conditional_joint_str_sv\n"
   ]
  }
 ],
 "metadata": {
  "kernelspec": {
   "display_name": "Bash",
   "language": "bash",
   "name": "bash"
  },
  "language_info": {
   "codemirror_mode": "shell",
   "file_extension": ".sh",
   "mimetype": "text/x-sh",
   "name": "bash"
  }
 },
 "nbformat": 4,
 "nbformat_minor": 2
}
