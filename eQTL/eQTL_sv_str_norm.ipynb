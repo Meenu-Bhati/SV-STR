{
 "cells": [
  {
   "cell_type": "code",
   "execution_count": null,
   "metadata": {},
   "outputs": [],
   "source": [
    "### nominal\n",
    "### nominal\n",
    "expr=\"FINAL_gene_TPM_filter_quan_inv_allgenes.bed.gz\"\n",
    "cov=\"All_final_PEER_covariates.txt\"\n",
    "module load gcc/8.2.0 gsl\n",
    "\n",
    "qtltools=qtltools/bin/QTLtools\n",
    "joint=\"joint_sv_str\"\n",
    "\n",
    "out=\"Joint_sv_str/nominal/norm\"\n",
    "vcf_file=STRmac1_filter_SV_maf0.05_geno80_75ids.norm_sorted.vcf.gz\n ## The final contains combined str and sv file with only dosage score in format",
    "\n",
    "\n",
    "echo \"${qtltools} cis --vcf ${vcf_file} --bed ${expr} \\\n",
    "--std-err  --normal --nominal 0.01  --cov ${cov} --out  ${out}/joint_sv_str_nominal --window 1000000\"  \\\n",
    ,
    "\n"
   ]
  },
  {
   "cell_type": "code",
   "execution_count": null,
   "metadata": {},
   "outputs": [],
   "source": [
    "## run qtltools  permutation with normalized scores\n",
    "expr=\"/cluster/work/pausch/meenu/SV/expression/cis_eQTL_new/quantification/FINAL_gene_TPM_filter_quan_inv_allgenes.bed.gz\"\n",
    "cov=\"/cluster/work/pausch/meenu/SV/expression/cis_eQTL_new/quantification/All_final_PEER_covariates.txt\"\n",
    "module load gcc/8.2.0 gsl\n",
    "\n",
    "joint=\"/cluster/work/pausch/meenu/SV/smoove_SV/Result_183/joint_sv_str\"\n",
    "\n",
    "qtltools=/cluster/work/pausch/alex/software/qtltools/bin/QTLtools\n",
    "\n",
    "out=\"/cluster/work/pausch/meenu/SV/expression/cis_eQTL_new/Joint_sv_str/permutation/norm\"\n",
    "vcf_file=${joint}/STRmac1_filter_SV_maf0.05_geno80_75ids.norm_sorted.vcf.gz\n",
    "\n",
    "mkdir -p $out\n",
    "\n",
    "echo \"${qtltools} cis --vcf ${vcf_file} --bed ${expr} --cov ${cov} \\\n",
    "--std-err --normal --permute 1000 --out ${out}/eQTL_joint_str_sv_perm --window 1000000 \" \\\n",
    "| bsub -W 01:00 -n 1 -R \"rusage[mem=2000]\" -J \"cisQTL_SV_STR_norm\" -o log_eQTL_joint_str_sv_final_normalized\n",
    "\n",
    "#Warning message:\n",
    "#In pf(test1, 1, D[, opt_dof1], ncp = 0, lower.tail = FALSE, log.p = FALSE) :\n",
    "#  full precision may not have been achieved in 'pnbeta'\n",
    "\n",
    "## header\n",
    "${qtltools} cis --vcf ${vcf_file} --bed ${expr} --cov ${cov} \\\n",
    "--std-err --permute 1000 --out ${out}/header --window 1000000 --chunk 0 1 \n",
    "\n"
   ]
  },
  {
   "cell_type": "code",
   "execution_count": null,
   "metadata": {},
   "outputs": [],
   "source": [
    "## gzip\n",
    "module load htslib\n",
    "\n",
    "cat header ${out}/eQTL_joint_str_sv_perm > ${out}/eQTL_joint_str_sv_perm.txt\n",
    "\n",
    "gzip  ${out}/eQTL_joint_str_sv_perm.txt\n",
    "\n",
    "vcf_file=${joint}/STRmac1_filter_SV_maf0.05_geno80_75ids.norm_sorted.vcf.gz\n",
    "## fdr \n",
    "module load gcc/4.8.5 r/4.1.3\n",
    "\n",
    "## joint \n",
    "Rscript /cluster/work/pausch/meenu/SV/SV/RNAExpression/eQTL_QTLtools/qtltools_runFDR_cis.R \\\n",
    "${out}/eQTL_joint_str_sv_perm.txt.gz 0.05 \\\n",
    "${out}/eQTL_joint_str_sv_perm_fdr > log_rscript_perm\n",
    "\n",
    "## conditional\n",
    "\n",
    "module load gcc/8.2.0 gsl\n",
    "\n",
    "expr=\"/cluster/work/pausch/meenu/SV/expression/cis_eQTL_new/quantification/FINAL_gene_TPM_filter_quan_inv_allgenes.bed.gz\"\n",
    "cov=\"/cluster/work/pausch/meenu/SV/expression/cis_eQTL_new/quantification/All_final_PEER_covariates.txt\"\n",
    "module load gcc/8.2.0 gsl\n",
    "\n",
    "joint=\"/cluster/work/pausch/meenu/SV/smoove_SV/Result_183/joint_sv_str\"\n",
    "\n",
    "qtltools=/cluster/work/pausch/alex/software/qtltools/bin/QTLtools\n",
    "\n",
    "out=\"/cluster/work/pausch/meenu/SV/expression/cis_eQTL_new/Joint_sv_str/permutation/norm\"\n",
    "\n",
    "conditional=\"/cluster/work/pausch/meenu/SV/expression/cis_eQTL_new/Joint_sv_str/conditional/norm\"\n",
    "mkdir -p ${conditional}\n",
    "\n",
    "vcf_file=${joint}/STRmac1_filter_SV_maf0.05_geno80_75ids.norm_sorted.vcf.gz\n",
    "\n",
    "echo \"${qtltools} cis --vcf ${vcf_file} \\\n",
    "--bed ${expr} --cov ${cov} --mapping ${out}/eQTL_joint_str_sv_perm_fdr.thresholds.txt \\\n",
    "--std-err --out ${conditional}/eQTL_joint_str_sv_condi --window 1000000 \" | bsub -W 03:59 -n 1 -R \"rusage[mem=2000]\" -J \"condi_joint\" -o log_eQTL_joint_str_sv_condi \n",
    "\n",
    "### header\n",
    "\n",
    "${qtltools} cis --vcf ${vcf_file} \\\n",
    "--bed ${expr} --cov ${cov} --mapping ${out}/eQTL_joint_str_sv_perm_fdr.thresholds.txt \\\n",
    "--std-err  --out ${conditional}/header --window 1000000 --chunk 0 1\n",
    "\n",
    "cat header eQTL_joint_str_sv_condi > eQTL_joint_str_sv_condi_header\n"
   ]
  },
  {
   "cell_type": "code",
   "execution_count": null,
   "metadata": {},
   "outputs": [],
   "source": [
    "conditional=\"/cluster/work/pausch/meenu/SV/expression/cis_eQTL_new/Joint_all/conditional/norm\"\n",
    "cd $conditional\n",
    "\n",
    "for chr in {1..29}; do awk '{ if ($23 == 1) print $0}' ${conditional}/${chr}_eQTL_joint_all_condi; \\\n",
    "done >> Top_eQTL_conditional_joint_all\n",
    "\n",
    "cat header_eQTL_joint_all_condi Top_eQTL_conditional_joint_all > Top_eQTL_conditional_joint_all_output\n",
    "rm Top_eQTL_conditional_joint_all \n"
   ]
  },
  {
   "cell_type": "code",
   "execution_count": null,
   "metadata": {},
   "outputs": [],
   "source": [
    "awk '{ print $1}'  Top_conditional_sv_str_final | sort | uniq -c | wc -l\n",
    "\n",
    "awk '{ print $1}'  Top_conditional_sv_str_final | sort | uniq -c |  sort -nk1,1n | awk '$1>1' | wc -l\n",
    "\n",
    "awk '{ print $8}' Top_conditional_sv_str_final  | sort | uniq -c | wc -l \n",
    "\n",
    "awk '{ print $8}' Top_conditional_sv_str_final | sort | uniq -c |  sort -nk1,1n | awk '$1>1' | wc -l\n"
   ]
  },
  {
   "cell_type": "code",
   "execution_count": null,
   "metadata": {},
   "outputs": [],
   "source": [
    " ### extract gene list form marina list \n",
    " \n",
    " grep -w -F -f <(grep  -vE \"SNP|Indel\" Top_conditional_joint_svstr_withsnp_condi_all_info_annotation.txt | sort -gk19,19g |  cut -f29 | sort | uniq) <( cat /cluster/work/pausch/meenu/SV/Marina_make_fertility_gene_list.txt | tr \",\" \"\\t\" ) |  cut -f1 |  sed 's/[^a-zA-Z0-9]//g' | sort | uniq > Marina_gene_list_itersected_with_svstr\n",
    " \n",
    " grep -w -F -f Marina_gene_list_itersected_with_svstr <( grep  -vE \"SNP|Indel\" Top_conditional_joint_svstr_withsnp_condi_all_info_annotation.txt )  > Top_conditional_joint_svstr_withsnp_condi_all_info_anno_imp_gene.txt\n",
    " \n",
    " "
   ]
  }
 ],
 "metadata": {
  "kernelspec": {
   "display_name": "Bash",
   "language": "bash",
   "name": "bash"
  },
  "language_info": {
   "codemirror_mode": "shell",
   "file_extension": ".sh",
   "mimetype": "text/x-sh",
   "name": "bash"
  }
 },
 "nbformat": 4,
 "nbformat_minor": 2
}
